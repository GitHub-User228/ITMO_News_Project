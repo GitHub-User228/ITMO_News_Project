{
 "cells": [
  {
   "cell_type": "code",
   "execution_count": 4,
   "metadata": {
    "collapsed": true,
    "ExecuteTime": {
     "end_time": "2023-06-13T12:56:44.253527300Z",
     "start_time": "2023-06-13T12:56:44.222175Z"
    }
   },
   "outputs": [],
   "source": [
    "import os\n",
    "import pandas as pd\n",
    "from src.helpers import get_project_dir\n",
    "import warnings\n",
    "warnings.filterwarnings(\"ignore\")"
   ]
  },
  {
   "cell_type": "code",
   "execution_count": 5,
   "outputs": [],
   "source": [
    "PROJECT_PATH = get_project_dir()\n",
    "PATH_TO_VOC = os.path.join(PROJECT_PATH, 'data/vocabulary')"
   ],
   "metadata": {
    "collapsed": false,
    "ExecuteTime": {
     "end_time": "2023-06-13T12:56:44.620797500Z",
     "start_time": "2023-06-13T12:56:44.620797500Z"
    }
   }
  },
  {
   "cell_type": "code",
   "execution_count": 11,
   "outputs": [
    {
     "name": "stdout",
     "output_type": "stream",
     "text": [
      "+------------------------------------------------------------\n",
      "| Counting tokens in titles vocabulary ...\n",
      "| Number of tokens = 465574\n",
      "| Number of lemmas = 187883\n",
      "| Done \n",
      "+------------------------------------------------------------\n"
     ]
    }
   ],
   "source": [
    "print('+'+'-'*60)\n",
    "print('| Counting tokens in titles vocabulary ...')\n",
    "print(f'| Number of tokens = {len(pd.read_csv(os.path.join(PATH_TO_VOC, \"voc_title.csv\")))}')\n",
    "print(f'| Number of lemmas = {len(pd.read_csv(os.path.join(PATH_TO_VOC, \"lemma_voc_title.csv\")))}')\n",
    "print('| Done ')\n",
    "print('+'+'-'*60)"
   ],
   "metadata": {
    "collapsed": false,
    "ExecuteTime": {
     "end_time": "2023-06-13T12:59:11.094248Z",
     "start_time": "2023-06-13T12:59:10.181042100Z"
    }
   }
  },
  {
   "cell_type": "code",
   "execution_count": 12,
   "outputs": [
    {
     "name": "stdout",
     "output_type": "stream",
     "text": [
      "+------------------------------------------------------------\n",
      "| Counting tokens in summaries vocabulary ...\n",
      "| Number of tokens = 1001035\n",
      "| Number of lemmas = 518893\n",
      "| Done \n",
      "+------------------------------------------------------------\n"
     ]
    }
   ],
   "source": [
    "print('+'+'-'*60)\n",
    "print('| Counting tokens in summaries vocabulary ...')\n",
    "print(f'| Number of tokens = {len(pd.read_csv(os.path.join(PATH_TO_VOC, \"voc_summary.csv\")))}')\n",
    "print(f'| Number of lemmas = {len(pd.read_csv(os.path.join(PATH_TO_VOC, \"lemma_voc_summary.csv\")))}')\n",
    "print('| Done ')\n",
    "print('+'+'-'*60)"
   ],
   "metadata": {
    "collapsed": false,
    "ExecuteTime": {
     "end_time": "2023-06-13T12:59:26.383211400Z",
     "start_time": "2023-06-13T12:59:24.228290600Z"
    }
   }
  },
  {
   "cell_type": "code",
   "execution_count": null,
   "outputs": [],
   "source": [],
   "metadata": {
    "collapsed": false
   }
  }
 ],
 "metadata": {
  "kernelspec": {
   "display_name": "Python 3",
   "language": "python",
   "name": "python3"
  },
  "language_info": {
   "codemirror_mode": {
    "name": "ipython",
    "version": 2
   },
   "file_extension": ".py",
   "mimetype": "text/x-python",
   "name": "python",
   "nbconvert_exporter": "python",
   "pygments_lexer": "ipython2",
   "version": "2.7.6"
  }
 },
 "nbformat": 4,
 "nbformat_minor": 0
}

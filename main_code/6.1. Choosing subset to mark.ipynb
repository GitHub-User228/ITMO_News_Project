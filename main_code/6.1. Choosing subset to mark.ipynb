{
 "cells": [
  {
   "cell_type": "code",
   "execution_count": 1,
   "metadata": {
    "collapsed": true,
    "ExecuteTime": {
     "end_time": "2023-06-14T08:39:06.907543Z",
     "start_time": "2023-06-14T08:39:06.860573500Z"
    }
   },
   "outputs": [],
   "source": [
    "import os\n",
    "import re\n",
    "from src.helpers import get_project_dir\n",
    "from tqdm import tqdm\n",
    "import pandas as pd\n",
    "\"\"\"\n",
    "TODO\n",
    "\"\"\""
   ]
  },
  {
   "cell_type": "code",
   "execution_count": 2,
   "outputs": [],
   "source": [
    "PROJECT_PATH = get_project_dir()"
   ],
   "metadata": {
    "collapsed": false,
    "ExecuteTime": {
     "end_time": "2023-06-14T08:39:13.981516400Z",
     "start_time": "2023-06-14T08:39:13.950175Z"
    }
   }
  },
  {
   "cell_type": "code",
   "execution_count": 3,
   "outputs": [],
   "source": [
    "df = pd.read_csv(os.path.join(PROJECT_PATH, 'data/raw/separated/title.csv'))"
   ],
   "metadata": {
    "collapsed": false,
    "ExecuteTime": {
     "end_time": "2023-06-14T08:40:30.381266400Z",
     "start_time": "2023-06-14T08:39:26.068758500Z"
    }
   }
  },
  {
   "cell_type": "code",
   "execution_count": 6,
   "outputs": [
    {
     "name": "stderr",
     "output_type": "stream",
     "text": [
      "100%|██████████| 4388764/4388764 [00:06<00:00, 665763.56it/s]\n"
     ]
    }
   ],
   "source": [
    "df['length'] = list(tqdm(map(lambda x: len(x.split(' ')), df['text']), total=len(df)))"
   ],
   "metadata": {
    "collapsed": false,
    "ExecuteTime": {
     "end_time": "2023-06-14T08:44:51.255830600Z",
     "start_time": "2023-06-14T08:44:42.930141200Z"
    }
   }
  },
  {
   "cell_type": "code",
   "execution_count": 7,
   "outputs": [
    {
     "name": "stderr",
     "output_type": "stream",
     "text": [
      "100%|██████████| 4388764/4388764 [00:11<00:00, 386445.06it/s]\n"
     ]
    }
   ],
   "source": [
    "df['is_rus'] = list(tqdm(map(lambda x: re.search(r'[a-z]', x) == None, df['text']), total=len(df)))"
   ],
   "metadata": {
    "collapsed": false,
    "ExecuteTime": {
     "end_time": "2023-06-14T08:45:17.976300500Z",
     "start_time": "2023-06-14T08:45:06.260452500Z"
    }
   }
  },
  {
   "cell_type": "code",
   "execution_count": 10,
   "outputs": [
    {
     "name": "stderr",
     "output_type": "stream",
     "text": [
      "/tmp/ipykernel_13228/2442374271.py:1: UserWarning: Boolean Series key will be reindexed to match DataFrame index.\n",
      "  df2 = df[df['length']>2][df['length']<20][df['is_rus']==True].sample(30000, random_state=42)\n",
      "/tmp/ipykernel_13228/2442374271.py:1: UserWarning: Boolean Series key will be reindexed to match DataFrame index.\n",
      "  df2 = df[df['length']>2][df['length']<20][df['is_rus']==True].sample(30000, random_state=42)\n"
     ]
    }
   ],
   "source": [
    "df2 = df[df['length']>2][df['length']<20][df['is_rus']==True].sample(30000, random_state=42)"
   ],
   "metadata": {
    "collapsed": false,
    "ExecuteTime": {
     "end_time": "2023-06-14T08:45:52.161731Z",
     "start_time": "2023-06-14T08:45:49.640155Z"
    }
   }
  },
  {
   "cell_type": "code",
   "execution_count": 13,
   "outputs": [],
   "source": [
    "df2.drop(['is_rus'], axis=1).to_csv(os.path.join(PROJECT_PATH, 'data/marked/marked_title.csv'), index=False)"
   ],
   "metadata": {
    "collapsed": false,
    "ExecuteTime": {
     "end_time": "2023-06-14T08:46:19.904824Z",
     "start_time": "2023-06-14T08:46:19.690403200Z"
    }
   }
  }
 ],
 "metadata": {
  "kernelspec": {
   "display_name": "Python 3",
   "language": "python",
   "name": "python3"
  },
  "language_info": {
   "codemirror_mode": {
    "name": "ipython",
    "version": 2
   },
   "file_extension": ".py",
   "mimetype": "text/x-python",
   "name": "python",
   "nbconvert_exporter": "python",
   "pygments_lexer": "ipython2",
   "version": "2.7.6"
  }
 },
 "nbformat": 4,
 "nbformat_minor": 0
}

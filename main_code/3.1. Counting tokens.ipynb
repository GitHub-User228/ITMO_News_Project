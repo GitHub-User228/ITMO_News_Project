{
 "cells": [
  {
   "cell_type": "code",
   "execution_count": 1,
   "metadata": {
    "collapsed": true,
    "ExecuteTime": {
     "end_time": "2023-06-13T08:18:52.679826Z",
     "start_time": "2023-06-13T08:18:51.942789600Z"
    }
   },
   "outputs": [],
   "source": [
    "import os\n",
    "import pandas as pd\n",
    "from src.helpers import get_project_dir\n",
    "from src.aggregators import counter, count_rows\n",
    "import warnings\n",
    "warnings.filterwarnings(\"ignore\")"
   ]
  },
  {
   "cell_type": "code",
   "execution_count": 2,
   "outputs": [],
   "source": [
    "PROJECT_PATH = get_project_dir()\n",
    "PATH_TO_DATA1 = os.path.join(PROJECT_PATH, 'data/raw/separated')\n",
    "PATH_TO_DATA2 = os.path.join(PROJECT_PATH, 'data/preprocessed')"
   ],
   "metadata": {
    "collapsed": false,
    "ExecuteTime": {
     "end_time": "2023-06-12T20:53:06.287987300Z",
     "start_time": "2023-06-12T20:53:06.256734500Z"
    }
   }
  },
  {
   "cell_type": "code",
   "execution_count": null,
   "outputs": [],
   "source": [
    "print('+'+'-'*60)\n",
    "print('| Counting words ...')\n",
    "n_rows = count_rows(path=PATH_TO_DATA2, filename='title.csv')\n",
    "count = counter(path=PATH_TO_DATA2,\n",
    "                filename='title.csv',\n",
    "                chunksize=200000,\n",
    "                n_rows=n_rows,\n",
    "                columns_to_process = ['text'],\n",
    "                renamed_columns = ['title_text'],\n",
    "                prep_f=len)\n",
    "print('| Done ')\n",
    "print('+'+'-'*60)"
   ],
   "metadata": {
    "collapsed": false
   }
  },
  {
   "cell_type": "code",
   "execution_count": 15,
   "outputs": [
    {
     "data": {
      "text/plain": "                count\ncols                 \ntitle_text  345733570",
      "text/html": "<div>\n<style scoped>\n    .dataframe tbody tr th:only-of-type {\n        vertical-align: middle;\n    }\n\n    .dataframe tbody tr th {\n        vertical-align: top;\n    }\n\n    .dataframe thead th {\n        text-align: right;\n    }\n</style>\n<table border=\"1\" class=\"dataframe\">\n  <thead>\n    <tr style=\"text-align: right;\">\n      <th></th>\n      <th>count</th>\n    </tr>\n    <tr>\n      <th>cols</th>\n      <th></th>\n    </tr>\n  </thead>\n  <tbody>\n    <tr>\n      <th>title_text</th>\n      <td>345733570</td>\n    </tr>\n  </tbody>\n</table>\n</div>"
     },
     "execution_count": 15,
     "metadata": {},
     "output_type": "execute_result"
    }
   ],
   "source": [
    "count"
   ],
   "metadata": {
    "collapsed": false,
    "ExecuteTime": {
     "end_time": "2023-06-12T21:04:18.194436400Z",
     "start_time": "2023-06-12T21:04:18.062176800Z"
    }
   }
  },
  {
   "cell_type": "code",
   "execution_count": 16,
   "outputs": [
    {
     "name": "stdout",
     "output_type": "stream",
     "text": [
      "+------------------------------------------------------------\n",
      "| Counting words ...\n"
     ]
    },
    {
     "name": "stderr",
     "output_type": "stream",
     "text": [
      "counting rows...: 3737451it [00:42, 87798.46it/s] \n",
      "CHUNKS: 100%|██████████| 19/19 [00:57<00:00,  3.04s/it]"
     ]
    },
    {
     "name": "stdout",
     "output_type": "stream",
     "text": [
      "| Done \n",
      "+------------------------------------------------------------\n"
     ]
    },
    {
     "name": "stderr",
     "output_type": "stream",
     "text": [
      "\n"
     ]
    }
   ],
   "source": [
    "print('+'+'-'*60)\n",
    "print('| Counting words ...')\n",
    "n_rows = count_rows(path=PATH_TO_DATA2, filename='summary.csv')\n",
    "count = counter(path=PATH_TO_DATA2,\n",
    "                filename='summary.csv',\n",
    "                chunksize=200000,\n",
    "                n_rows=n_rows,\n",
    "                columns_to_process = ['text'],\n",
    "                renamed_columns = ['summary_text'],\n",
    "                prep_f=len)\n",
    "print('| Done ')\n",
    "print('+'+'-'*60)"
   ],
   "metadata": {
    "collapsed": false,
    "ExecuteTime": {
     "end_time": "2023-06-12T21:06:30.999770800Z",
     "start_time": "2023-06-12T21:04:50.595479300Z"
    }
   }
  },
  {
   "cell_type": "code",
   "execution_count": 17,
   "outputs": [
    {
     "data": {
      "text/plain": "                   count\ncols                    \nsummary_text  1065417081",
      "text/html": "<div>\n<style scoped>\n    .dataframe tbody tr th:only-of-type {\n        vertical-align: middle;\n    }\n\n    .dataframe tbody tr th {\n        vertical-align: top;\n    }\n\n    .dataframe thead th {\n        text-align: right;\n    }\n</style>\n<table border=\"1\" class=\"dataframe\">\n  <thead>\n    <tr style=\"text-align: right;\">\n      <th></th>\n      <th>count</th>\n    </tr>\n    <tr>\n      <th>cols</th>\n      <th></th>\n    </tr>\n  </thead>\n  <tbody>\n    <tr>\n      <th>summary_text</th>\n      <td>1065417081</td>\n    </tr>\n  </tbody>\n</table>\n</div>"
     },
     "execution_count": 17,
     "metadata": {},
     "output_type": "execute_result"
    }
   ],
   "source": [
    "count"
   ],
   "metadata": {
    "collapsed": false,
    "ExecuteTime": {
     "end_time": "2023-06-12T21:06:35.453880800Z",
     "start_time": "2023-06-12T21:06:35.391349100Z"
    }
   }
  },
  {
   "cell_type": "code",
   "execution_count": 20,
   "outputs": [],
   "source": [
    "PATH_TO_VOC = os.path.join(PROJECT_PATH, 'data/vocabulary')"
   ],
   "metadata": {
    "collapsed": false,
    "ExecuteTime": {
     "end_time": "2023-06-12T21:08:45.610136600Z",
     "start_time": "2023-06-12T21:08:45.563191500Z"
    }
   }
  },
  {
   "cell_type": "code",
   "execution_count": 23,
   "outputs": [
    {
     "name": "stdout",
     "output_type": "stream",
     "text": [
      "+------------------------------------------------------------\n",
      "| Counting words in titles vocabulary ...\n",
      "| Length = 465574\n",
      "| Done \n",
      "+------------------------------------------------------------\n"
     ]
    }
   ],
   "source": [
    "print('+'+'-'*60)\n",
    "print('| Counting words in titles vocabulary ...')\n",
    "print(f'| Length = {len(pd.read_csv(os.path.join(PATH_TO_VOC, \"voc_title.csv\")))}')\n",
    "print('| Done ')\n",
    "print('+'+'-'*60)"
   ],
   "metadata": {
    "collapsed": false,
    "ExecuteTime": {
     "end_time": "2023-06-12T21:09:36.775769200Z",
     "start_time": "2023-06-12T21:09:36.126653300Z"
    }
   }
  },
  {
   "cell_type": "code",
   "execution_count": 24,
   "outputs": [
    {
     "name": "stdout",
     "output_type": "stream",
     "text": [
      "+------------------------------------------------------------\n",
      "| Counting words in summaries vocabulary ...\n",
      "| Length = 1001035\n",
      "| Done \n",
      "+------------------------------------------------------------\n"
     ]
    }
   ],
   "source": [
    "print('+'+'-'*60)\n",
    "print('| Counting words in summaries vocabulary ...')\n",
    "print(f'| Length = {len(pd.read_csv(os.path.join(PATH_TO_VOC, \"voc_summary.csv\")))}')\n",
    "print('| Done ')\n",
    "print('+'+'-'*60)"
   ],
   "metadata": {
    "collapsed": false,
    "ExecuteTime": {
     "end_time": "2023-06-12T21:10:20.010627400Z",
     "start_time": "2023-06-12T21:10:18.573461800Z"
    }
   }
  },
  {
   "cell_type": "code",
   "execution_count": null,
   "outputs": [],
   "source": [],
   "metadata": {
    "collapsed": false
   }
  }
 ],
 "metadata": {
  "kernelspec": {
   "display_name": "Python 3",
   "language": "python",
   "name": "python3"
  },
  "language_info": {
   "codemirror_mode": {
    "name": "ipython",
    "version": 2
   },
   "file_extension": ".py",
   "mimetype": "text/x-python",
   "name": "python",
   "nbconvert_exporter": "python",
   "pygments_lexer": "ipython2",
   "version": "2.7.6"
  }
 },
 "nbformat": 4,
 "nbformat_minor": 0
}

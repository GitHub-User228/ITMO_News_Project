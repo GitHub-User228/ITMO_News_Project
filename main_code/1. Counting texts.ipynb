{
 "cells": [
  {
   "cell_type": "code",
   "execution_count": 67,
   "outputs": [],
   "source": [
    "import os\n",
    "from src.helpers import read_txt, get_project_dir\n",
    "from src.aggregators import counter_with_grouping, counter_unique_with_grouping\n",
    "import warnings\n",
    "warnings.filterwarnings(\"ignore\")"
   ],
   "metadata": {
    "collapsed": false,
    "ExecuteTime": {
     "end_time": "2023-06-12T17:20:37.189046800Z",
     "start_time": "2023-06-12T17:20:37.128785300Z"
    }
   }
  },
  {
   "cell_type": "code",
   "execution_count": 34,
   "metadata": {
    "collapsed": true,
    "ExecuteTime": {
     "end_time": "2023-06-12T16:18:41.675699600Z",
     "start_time": "2023-06-12T16:18:41.644422500Z"
    }
   },
   "outputs": [],
   "source": [
    "PROJECT_PATH = get_project_dir()\n",
    "PATH_TO_DATA = os.path.join(PROJECT_PATH, 'data/raw/separated')\n",
    "PATH_TO_GROUPS = os.path.join(PROJECT_PATH, 'data')\n",
    "PATH_TO_SAVE = os.path.join(PROJECT_PATH, 'data/for_analysis/Part1')"
   ]
  },
  {
   "cell_type": "code",
   "execution_count": 131,
   "outputs": [
    {
     "name": "stdout",
     "output_type": "stream",
     "text": [
      "+------------------------------------------------------------\n",
      "| Getting groups ...\n",
      "| Done \n",
      "+------------------------------------------------------------\n"
     ]
    }
   ],
   "source": [
    "print('+'+'-'*60)\n",
    "print('| Getting groups ...')\n",
    "groups = read_txt(path=PATH_TO_GROUPS, filename='sources.txt')\n",
    "print('| Done ')\n",
    "print('+'+'-'*60)"
   ],
   "metadata": {
    "collapsed": false,
    "ExecuteTime": {
     "end_time": "2023-06-12T18:05:19.909564400Z",
     "start_time": "2023-06-12T18:05:19.811857700Z"
    }
   }
  },
  {
   "cell_type": "code",
   "execution_count": 132,
   "outputs": [
    {
     "name": "stdout",
     "output_type": "stream",
     "text": [
      "+------------------------------------------------------------\n",
      "| Counting ...\n"
     ]
    },
    {
     "name": "stderr",
     "output_type": "stream",
     "text": [
      "CHUNKS: 100%|██████████| 97/97 [00:44<00:00,  2.18it/s]"
     ]
    },
    {
     "name": "stdout",
     "output_type": "stream",
     "text": [
      "| Done \n",
      "+------------------------------------------------------------\n"
     ]
    },
    {
     "name": "stderr",
     "output_type": "stream",
     "text": [
      "\n"
     ]
    }
   ],
   "source": [
    "print('+'+'-'*60)\n",
    "print('| Counting ...')\n",
    "data1 = counter_with_grouping(path=PATH_TO_DATA,\n",
    "                              filename='main.csv',\n",
    "                              chunksize=200000,\n",
    "                              n_rows=19291934,\n",
    "                              groups=groups,\n",
    "                              column_to_group = 'source',\n",
    "                              columns_to_process = ['title_id', 'summary_id', 'type', 'date'],\n",
    "                              renamed_columns = ['title', 'summary', 'type', 'date'])\n",
    "print('| Done ')\n",
    "print('+'+'-'*60)"
   ],
   "metadata": {
    "collapsed": false,
    "ExecuteTime": {
     "end_time": "2023-06-12T18:06:07.147490900Z",
     "start_time": "2023-06-12T18:05:22.369568800Z"
    }
   }
  },
  {
   "cell_type": "code",
   "execution_count": 133,
   "outputs": [],
   "source": [
    "data1.to_excel(os.path.join(PATH_TO_SAVE, 'counts.xlsx'))"
   ],
   "metadata": {
    "collapsed": false,
    "ExecuteTime": {
     "end_time": "2023-06-12T18:06:42.214318500Z",
     "start_time": "2023-06-12T18:06:42.111900100Z"
    }
   }
  },
  {
   "cell_type": "code",
   "execution_count": 143,
   "outputs": [
    {
     "name": "stdout",
     "output_type": "stream",
     "text": [
      "+------------------------------------------------------------\n",
      "| Counting unique ...\n"
     ]
    },
    {
     "name": "stderr",
     "output_type": "stream",
     "text": [
      "CHUNKS: 100%|██████████| 97/97 [01:19<00:00,  1.22it/s]\n"
     ]
    },
    {
     "name": "stdout",
     "output_type": "stream",
     "text": [
      "| Done \n",
      "+------------------------------------------------------------\n"
     ]
    }
   ],
   "source": [
    "print('+'+'-'*60)\n",
    "print('| Counting unique ...')\n",
    "counts, _ = counter_unique_with_grouping(path=PATH_TO_DATA,\n",
    "                                        filename='main.csv',\n",
    "                                        chunksize=200000,\n",
    "                                        n_rows=19291934,\n",
    "                                        groups=groups,\n",
    "                                        column_to_group = 'source',\n",
    "                                        columns_to_process = ['title_id', 'summary_id'],\n",
    "                                        renamed_columns = ['title', 'summary'])\n",
    "print('| Done ')\n",
    "print('+'+'-'*60)"
   ],
   "metadata": {
    "collapsed": false,
    "ExecuteTime": {
     "end_time": "2023-06-12T18:21:18.061802100Z",
     "start_time": "2023-06-12T18:19:52.641461600Z"
    }
   }
  },
  {
   "cell_type": "code",
   "execution_count": 145,
   "outputs": [],
   "source": [
    "counts.to_excel(os.path.join(PATH_TO_SAVE, 'counts_unique.xlsx'))"
   ],
   "metadata": {
    "collapsed": false,
    "ExecuteTime": {
     "end_time": "2023-06-12T18:23:56.984036800Z",
     "start_time": "2023-06-12T18:23:56.800882Z"
    }
   }
  },
  {
   "cell_type": "code",
   "execution_count": null,
   "outputs": [],
   "source": [],
   "metadata": {
    "collapsed": false
   }
  }
 ],
 "metadata": {
  "kernelspec": {
   "display_name": "Python 3",
   "language": "python",
   "name": "python3"
  },
  "language_info": {
   "codemirror_mode": {
    "name": "ipython",
    "version": 2
   },
   "file_extension": ".py",
   "mimetype": "text/x-python",
   "name": "python",
   "nbconvert_exporter": "python",
   "pygments_lexer": "ipython2",
   "version": "2.7.6"
  }
 },
 "nbformat": 4,
 "nbformat_minor": 0
}

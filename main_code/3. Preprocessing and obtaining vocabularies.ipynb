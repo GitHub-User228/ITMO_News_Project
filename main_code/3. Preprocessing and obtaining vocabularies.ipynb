{
 "cells": [
  {
   "cell_type": "code",
   "execution_count": null,
   "outputs": [],
   "source": [
    "import os\n",
    "from src.helpers import get_project_dir\n",
    "from src.preprocessors import preprocess_data_and_get_vocabulary, preprocess_date_in_data\n",
    "import warnings\n",
    "warnings.filterwarnings(\"ignore\")"
   ],
   "metadata": {
    "collapsed": false
   }
  },
  {
   "cell_type": "code",
   "execution_count": null,
   "outputs": [],
   "source": [
    "PROJECT_PATH = get_project_dir()\n",
    "kwargs = {'path_to_read': os.path.join(PROJECT_PATH, 'data/raw/separated/'),\n",
    "          'path_to_write': os.path.join(PROJECT_PATH, 'data/preprocessed/'),\n",
    "          'path_to_vocabulary': os.path.join(PROJECT_PATH, 'data/vocabulary')}"
   ],
   "metadata": {
    "collapsed": false
   }
  },
  {
   "cell_type": "code",
   "execution_count": null,
   "outputs": [],
   "source": [
    "##############################################################################################\n",
    "###                              Preprocessing titles                                      ###\n",
    "print('+'+'-'*60)\n",
    "print('| Preprocessing MAIN titles ...')\n",
    "preprocess_data_and_get_vocabulary(filename='title.csv', chunksize=200000, **kwargs)\n",
    "print('| Done')\n",
    "print('+'+'-'*60)"
   ],
   "metadata": {
    "collapsed": false
   }
  },
  {
   "cell_type": "code",
   "execution_count": null,
   "outputs": [],
   "source": [
    "##############################################################################################\n",
    "###                               Preprocessing summaries                                  ###\n",
    "print('+'+'-'*60)\n",
    "print('| Preprocessing MAIN summaries ...')\n",
    "preprocess_data_and_get_vocabulary(filename='summary.csv', chunksize=50000, **kwargs)\n",
    "print('| Done')\n",
    "print('+'+'-'*60)"
   ],
   "metadata": {
    "collapsed": false
   }
  },
  {
   "cell_type": "code",
   "execution_count": null,
   "outputs": [],
   "source": [
    "##############################################################################################\n",
    "###                             Preprocessing basis dataframe                              ###\n",
    "print('+'+'-'*60)\n",
    "print('| Preprocessing MAIN basis data ...')\n",
    "del kwargs['path_to_vocabulary']\n",
    "preprocess_date_in_data(filename='main.csv', chunksize=200000, **kwargs)\n",
    "print('| Done')\n",
    "print('+'+'-'*60)"
   ],
   "metadata": {
    "collapsed": false
   }
  }
 ],
 "metadata": {
  "kernelspec": {
   "display_name": "Python 3",
   "language": "python",
   "name": "python3"
  },
  "language_info": {
   "codemirror_mode": {
    "name": "ipython",
    "version": 2
   },
   "file_extension": ".py",
   "mimetype": "text/x-python",
   "name": "python",
   "nbconvert_exporter": "python",
   "pygments_lexer": "ipython2",
   "version": "2.7.6"
  }
 },
 "nbformat": 4,
 "nbformat_minor": 0
}

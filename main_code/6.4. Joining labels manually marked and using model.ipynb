{
 "cells": [
  {
   "cell_type": "code",
   "execution_count": 1,
   "metadata": {
    "collapsed": true,
    "ExecuteTime": {
     "end_time": "2023-06-15T07:56:35.787695200Z",
     "start_time": "2023-06-15T07:56:35.779662300Z"
    }
   },
   "outputs": [],
   "source": [
    "import os\n",
    "from src.helpers import get_project_dir\n",
    "import pandas as pd\n",
    "import warnings\n",
    "warnings.filterwarnings(\"ignore\")\n",
    "\"\"\"\n",
    "TODO\n",
    "\"\"\""
   ]
  },
  {
   "cell_type": "code",
   "execution_count": 8,
   "outputs": [],
   "source": [
    "PROJECT_PATH = get_project_dir()\n",
    "PATH_TO_DATA = os.path.join(PROJECT_PATH, 'data/preprocessed')\n",
    "PATH_TO_DATA2 = os.path.join(PROJECT_PATH, 'data/marked')"
   ],
   "metadata": {
    "collapsed": false,
    "ExecuteTime": {
     "end_time": "2023-06-15T08:02:49.147448100Z",
     "start_time": "2023-06-15T08:02:49.116161300Z"
    }
   }
  },
  {
   "cell_type": "code",
   "execution_count": 5,
   "outputs": [],
   "source": [
    "df = pd.read_csv(os.path.join(PATH_TO_DATA, 'p_title.csv'))"
   ],
   "metadata": {
    "collapsed": false,
    "ExecuteTime": {
     "end_time": "2023-06-15T08:01:19.376649100Z",
     "start_time": "2023-06-15T08:00:28.233560500Z"
    }
   }
  },
  {
   "cell_type": "code",
   "execution_count": 6,
   "outputs": [
    {
     "data": {
      "text/plain": "                                                      text          id  \\\n0                                                       []        ID_0   \n1        ['12', 'виолончелистов', 'дали', 'концерты', '...        ID_1   \n2        ['24', 'часа', 'ле', 'мана', 'итоги', 'гонки',...        ID_2   \n3        ['2morrow', 'завтра', 'москве', 'проходит', 'ф...        ID_3   \n4        ['8', 'первых', 'свиданий', 'лучших', 'традици...        ID_4   \n...                                                    ...         ...   \n4388759  ['стало', 'словом', '2015', 'года', 'оксфордск...  ID_4388759   \n4388760  ['наезжай', 'наезжаю', 'детей', 'ссорятся', 'р...  ID_4388760   \n4388761  ['яндекс', 'музыка', 'удалила', 'подкасты', 'с...  ID_4388761   \n4388762  ['греться', 'каникулах', 'глинтвейн', 'надоел'...  ID_4388762   \n4388763  ['страшный', 'сон', 'буду', 'рассказывать', 'у...  ID_4388763   \n\n                                                lemmatized  \n0                                                       []  \n1                [21, 48831, 60065, 86265, 114306, 104481]  \n2          [34, 178268, 92151, 97405, 77481, 57131, 52412]  \n3        [2253, 70068, 104481, 136515, 171146, 110267, ...  \n4        [17, 123780, 148406, 95346, 164336, 47497, 85265]  \n...                                                    ...  \n4388759      [156185, 152354, 1465, 54576, 117862, 152358]  \n4388760            [106991, 106991, 62451, 156137, 143290]  \n4388761  [187436, 105218, 167284, 127877, 152477, 16160...  \n4388762  [58546, 79279, 56282, 106907, 149585, 32000, 5...  \n4388763  [107151, 152925, 44096, 140450, 168083, 62451,...  \n\n[4388764 rows x 3 columns]",
      "text/html": "<div>\n<style scoped>\n    .dataframe tbody tr th:only-of-type {\n        vertical-align: middle;\n    }\n\n    .dataframe tbody tr th {\n        vertical-align: top;\n    }\n\n    .dataframe thead th {\n        text-align: right;\n    }\n</style>\n<table border=\"1\" class=\"dataframe\">\n  <thead>\n    <tr style=\"text-align: right;\">\n      <th></th>\n      <th>text</th>\n      <th>id</th>\n      <th>lemmatized</th>\n    </tr>\n  </thead>\n  <tbody>\n    <tr>\n      <th>0</th>\n      <td>[]</td>\n      <td>ID_0</td>\n      <td>[]</td>\n    </tr>\n    <tr>\n      <th>1</th>\n      <td>['12', 'виолончелистов', 'дали', 'концерты', '...</td>\n      <td>ID_1</td>\n      <td>[21, 48831, 60065, 86265, 114306, 104481]</td>\n    </tr>\n    <tr>\n      <th>2</th>\n      <td>['24', 'часа', 'ле', 'мана', 'итоги', 'гонки',...</td>\n      <td>ID_2</td>\n      <td>[34, 178268, 92151, 97405, 77481, 57131, 52412]</td>\n    </tr>\n    <tr>\n      <th>3</th>\n      <td>['2morrow', 'завтра', 'москве', 'проходит', 'ф...</td>\n      <td>ID_3</td>\n      <td>[2253, 70068, 104481, 136515, 171146, 110267, ...</td>\n    </tr>\n    <tr>\n      <th>4</th>\n      <td>['8', 'первых', 'свиданий', 'лучших', 'традици...</td>\n      <td>ID_4</td>\n      <td>[17, 123780, 148406, 95346, 164336, 47497, 85265]</td>\n    </tr>\n    <tr>\n      <th>...</th>\n      <td>...</td>\n      <td>...</td>\n      <td>...</td>\n    </tr>\n    <tr>\n      <th>4388759</th>\n      <td>['стало', 'словом', '2015', 'года', 'оксфордск...</td>\n      <td>ID_4388759</td>\n      <td>[156185, 152354, 1465, 54576, 117862, 152358]</td>\n    </tr>\n    <tr>\n      <th>4388760</th>\n      <td>['наезжай', 'наезжаю', 'детей', 'ссорятся', 'р...</td>\n      <td>ID_4388760</td>\n      <td>[106991, 106991, 62451, 156137, 143290]</td>\n    </tr>\n    <tr>\n      <th>4388761</th>\n      <td>['яндекс', 'музыка', 'удалила', 'подкасты', 'с...</td>\n      <td>ID_4388761</td>\n      <td>[187436, 105218, 167284, 127877, 152477, 16160...</td>\n    </tr>\n    <tr>\n      <th>4388762</th>\n      <td>['греться', 'каникулах', 'глинтвейн', 'надоел'...</td>\n      <td>ID_4388762</td>\n      <td>[58546, 79279, 56282, 106907, 149585, 32000, 5...</td>\n    </tr>\n    <tr>\n      <th>4388763</th>\n      <td>['страшный', 'сон', 'буду', 'рассказывать', 'у...</td>\n      <td>ID_4388763</td>\n      <td>[107151, 152925, 44096, 140450, 168083, 62451,...</td>\n    </tr>\n  </tbody>\n</table>\n<p>4388764 rows × 3 columns</p>\n</div>"
     },
     "execution_count": 6,
     "metadata": {},
     "output_type": "execute_result"
    }
   ],
   "source": [
    "df"
   ],
   "metadata": {
    "collapsed": false,
    "ExecuteTime": {
     "end_time": "2023-06-15T08:01:30.346277400Z",
     "start_time": "2023-06-15T08:01:30.165295300Z"
    }
   }
  },
  {
   "cell_type": "code",
   "execution_count": 9,
   "outputs": [],
   "source": [
    "df2 = pd.read_csv(os.path.join(PATH_TO_DATA2, 'title_pred.csv'))"
   ],
   "metadata": {
    "collapsed": false,
    "ExecuteTime": {
     "end_time": "2023-06-15T08:03:22.682749Z",
     "start_time": "2023-06-15T08:02:51.290721400Z"
    }
   }
  },
  {
   "cell_type": "code",
   "execution_count": 11,
   "outputs": [],
   "source": [
    "df2['label'] = df2['label'].astype('uint8')"
   ],
   "metadata": {
    "collapsed": false,
    "ExecuteTime": {
     "end_time": "2023-06-15T08:04:06.558842100Z",
     "start_time": "2023-06-15T08:04:06.452008700Z"
    }
   }
  },
  {
   "cell_type": "code",
   "execution_count": 12,
   "outputs": [],
   "source": [
    "del df2['text']"
   ],
   "metadata": {
    "collapsed": false,
    "ExecuteTime": {
     "end_time": "2023-06-15T08:04:39.424278300Z",
     "start_time": "2023-06-15T08:04:39.377392300Z"
    }
   }
  },
  {
   "cell_type": "code",
   "execution_count": 14,
   "outputs": [],
   "source": [
    "df2['lemmatized'] = df['lemmatized']"
   ],
   "metadata": {
    "collapsed": false,
    "ExecuteTime": {
     "end_time": "2023-06-15T08:05:10.528876500Z",
     "start_time": "2023-06-15T08:05:10.513223100Z"
    }
   }
  },
  {
   "cell_type": "code",
   "execution_count": 17,
   "outputs": [],
   "source": [
    "df3 = pd.read_csv(os.path.join(PATH_TO_DATA2, 'marked_title.csv'))"
   ],
   "metadata": {
    "collapsed": false,
    "ExecuteTime": {
     "end_time": "2023-06-15T08:05:53.833024200Z",
     "start_time": "2023-06-15T08:05:53.614676700Z"
    }
   }
  },
  {
   "cell_type": "code",
   "execution_count": 19,
   "outputs": [],
   "source": [
    "df2['is_manual'] = False"
   ],
   "metadata": {
    "collapsed": false,
    "ExecuteTime": {
     "end_time": "2023-06-15T08:06:32.198275200Z",
     "start_time": "2023-06-15T08:06:32.167007600Z"
    }
   }
  },
  {
   "cell_type": "code",
   "execution_count": 20,
   "outputs": [
    {
     "data": {
      "text/plain": "                 id  label                                         lemmatized  \\\n0              ID_0      1                                                 []   \n1              ID_1      1          [21, 48831, 60065, 86265, 114306, 104481]   \n2              ID_2      1    [34, 178268, 92151, 97405, 77481, 57131, 52412]   \n3              ID_3      1  [2253, 70068, 104481, 136515, 171146, 110267, ...   \n4              ID_4      1  [17, 123780, 148406, 95346, 164336, 47497, 85265]   \n...             ...    ...                                                ...   \n4388759  ID_4388759      1      [156185, 152354, 1465, 54576, 117862, 152358]   \n4388760  ID_4388760      1            [106991, 106991, 62451, 156137, 143290]   \n4388761  ID_4388761      0  [187436, 105218, 167284, 127877, 152477, 16160...   \n4388762  ID_4388762      1  [58546, 79279, 56282, 106907, 149585, 32000, 5...   \n4388763  ID_4388763      1  [107151, 152925, 44096, 140450, 168083, 62451,...   \n\n         is_manual  \n0            False  \n1            False  \n2            False  \n3            False  \n4            False  \n...            ...  \n4388759      False  \n4388760      False  \n4388761      False  \n4388762      False  \n4388763      False  \n\n[4388764 rows x 4 columns]",
      "text/html": "<div>\n<style scoped>\n    .dataframe tbody tr th:only-of-type {\n        vertical-align: middle;\n    }\n\n    .dataframe tbody tr th {\n        vertical-align: top;\n    }\n\n    .dataframe thead th {\n        text-align: right;\n    }\n</style>\n<table border=\"1\" class=\"dataframe\">\n  <thead>\n    <tr style=\"text-align: right;\">\n      <th></th>\n      <th>id</th>\n      <th>label</th>\n      <th>lemmatized</th>\n      <th>is_manual</th>\n    </tr>\n  </thead>\n  <tbody>\n    <tr>\n      <th>0</th>\n      <td>ID_0</td>\n      <td>1</td>\n      <td>[]</td>\n      <td>False</td>\n    </tr>\n    <tr>\n      <th>1</th>\n      <td>ID_1</td>\n      <td>1</td>\n      <td>[21, 48831, 60065, 86265, 114306, 104481]</td>\n      <td>False</td>\n    </tr>\n    <tr>\n      <th>2</th>\n      <td>ID_2</td>\n      <td>1</td>\n      <td>[34, 178268, 92151, 97405, 77481, 57131, 52412]</td>\n      <td>False</td>\n    </tr>\n    <tr>\n      <th>3</th>\n      <td>ID_3</td>\n      <td>1</td>\n      <td>[2253, 70068, 104481, 136515, 171146, 110267, ...</td>\n      <td>False</td>\n    </tr>\n    <tr>\n      <th>4</th>\n      <td>ID_4</td>\n      <td>1</td>\n      <td>[17, 123780, 148406, 95346, 164336, 47497, 85265]</td>\n      <td>False</td>\n    </tr>\n    <tr>\n      <th>...</th>\n      <td>...</td>\n      <td>...</td>\n      <td>...</td>\n      <td>...</td>\n    </tr>\n    <tr>\n      <th>4388759</th>\n      <td>ID_4388759</td>\n      <td>1</td>\n      <td>[156185, 152354, 1465, 54576, 117862, 152358]</td>\n      <td>False</td>\n    </tr>\n    <tr>\n      <th>4388760</th>\n      <td>ID_4388760</td>\n      <td>1</td>\n      <td>[106991, 106991, 62451, 156137, 143290]</td>\n      <td>False</td>\n    </tr>\n    <tr>\n      <th>4388761</th>\n      <td>ID_4388761</td>\n      <td>0</td>\n      <td>[187436, 105218, 167284, 127877, 152477, 16160...</td>\n      <td>False</td>\n    </tr>\n    <tr>\n      <th>4388762</th>\n      <td>ID_4388762</td>\n      <td>1</td>\n      <td>[58546, 79279, 56282, 106907, 149585, 32000, 5...</td>\n      <td>False</td>\n    </tr>\n    <tr>\n      <th>4388763</th>\n      <td>ID_4388763</td>\n      <td>1</td>\n      <td>[107151, 152925, 44096, 140450, 168083, 62451,...</td>\n      <td>False</td>\n    </tr>\n  </tbody>\n</table>\n<p>4388764 rows × 4 columns</p>\n</div>"
     },
     "execution_count": 20,
     "metadata": {},
     "output_type": "execute_result"
    }
   ],
   "source": [
    "df2"
   ],
   "metadata": {
    "collapsed": false,
    "ExecuteTime": {
     "end_time": "2023-06-15T08:06:34.934441700Z",
     "start_time": "2023-06-15T08:06:34.676202Z"
    }
   }
  },
  {
   "cell_type": "code",
   "execution_count": 27,
   "outputs": [],
   "source": [
    "df2 = df2.set_index('id')"
   ],
   "metadata": {
    "collapsed": false,
    "ExecuteTime": {
     "end_time": "2023-06-15T08:09:32.073395700Z",
     "start_time": "2023-06-15T08:09:31.145011200Z"
    }
   }
  },
  {
   "cell_type": "code",
   "execution_count": 28,
   "outputs": [],
   "source": [
    "df2.loc[list(df3['id'].values), 'is_manual'] = True\n",
    "df2.loc[list(df3['id'].values), 'label'] = df3['label']"
   ],
   "metadata": {
    "collapsed": false,
    "ExecuteTime": {
     "end_time": "2023-06-15T08:10:15.044179Z",
     "start_time": "2023-06-15T08:10:14.898939900Z"
    }
   }
  },
  {
   "cell_type": "code",
   "execution_count": 32,
   "outputs": [
    {
     "data": {
      "text/plain": "0        1\n1        1\n2        1\n3        1\n4        0\n        ..\n29995    1\n29996    1\n29997    1\n29998    1\n29999    0\nName: label, Length: 30000, dtype: int64"
     },
     "execution_count": 32,
     "metadata": {},
     "output_type": "execute_result"
    }
   ],
   "source": [
    "df3['label']"
   ],
   "metadata": {
    "collapsed": false,
    "ExecuteTime": {
     "end_time": "2023-06-15T08:11:15.607829Z",
     "start_time": "2023-06-15T08:11:15.507047200Z"
    }
   }
  },
  {
   "cell_type": "code",
   "execution_count": 41,
   "outputs": [],
   "source": [
    "df2.loc[list(df3['id'].values), 'label'] = list(df3['label'].astype('uint8'))"
   ],
   "metadata": {
    "collapsed": false,
    "ExecuteTime": {
     "end_time": "2023-06-15T08:14:03.516512700Z",
     "start_time": "2023-06-15T08:14:03.414280400Z"
    }
   }
  },
  {
   "cell_type": "code",
   "execution_count": 46,
   "outputs": [],
   "source": [
    "df2['label'] = df2['label'].astype('uint8')"
   ],
   "metadata": {
    "collapsed": false,
    "ExecuteTime": {
     "end_time": "2023-06-15T08:15:09.571841700Z",
     "start_time": "2023-06-15T08:15:09.413038Z"
    }
   }
  },
  {
   "cell_type": "code",
   "execution_count": 47,
   "outputs": [
    {
     "name": "stdout",
     "output_type": "stream",
     "text": [
      "<class 'pandas.core.frame.DataFrame'>\n",
      "Index: 4388764 entries, ID_0 to ID_4388763\n",
      "Data columns (total 3 columns):\n",
      " #   Column      Dtype \n",
      "---  ------      ----- \n",
      " 0   label       uint8 \n",
      " 1   lemmatized  object\n",
      " 2   is_manual   bool  \n",
      "dtypes: bool(1), object(1), uint8(1)\n",
      "memory usage: 204.3+ MB\n"
     ]
    }
   ],
   "source": [
    "df2.info()"
   ],
   "metadata": {
    "collapsed": false,
    "ExecuteTime": {
     "end_time": "2023-06-15T08:15:18.504744600Z",
     "start_time": "2023-06-15T08:15:18.409925200Z"
    }
   }
  },
  {
   "cell_type": "code",
   "execution_count": null,
   "outputs": [],
   "source": [],
   "metadata": {
    "collapsed": false
   }
  }
 ],
 "metadata": {
  "kernelspec": {
   "display_name": "Python 3",
   "language": "python",
   "name": "python3"
  },
  "language_info": {
   "codemirror_mode": {
    "name": "ipython",
    "version": 2
   },
   "file_extension": ".py",
   "mimetype": "text/x-python",
   "name": "python",
   "nbconvert_exporter": "python",
   "pygments_lexer": "ipython2",
   "version": "2.7.6"
  }
 },
 "nbformat": 4,
 "nbformat_minor": 0
}

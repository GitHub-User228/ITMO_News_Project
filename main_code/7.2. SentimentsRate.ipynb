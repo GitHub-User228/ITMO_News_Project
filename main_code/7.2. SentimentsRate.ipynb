{
 "cells": [
  {
   "cell_type": "code",
   "execution_count": null,
   "metadata": {
    "collapsed": true
   },
   "outputs": [],
   "source": [
    "import os\n",
    "import ast\n",
    "import pandas as pd\n",
    "from tqdm import tqdm\n",
    "import datetime\n",
    "from src.helpers import load_csv, read_txt, get_project_dir\n",
    "from src.plotters import custom_bar_plot, custom_line_plots\n",
    "from src.aggregators import SentimentsRate, SentimentsRateMulti\n",
    "import warnings\n",
    "warnings.filterwarnings(\"ignore\")"
   ]
  },
  {
   "cell_type": "code",
   "execution_count": null,
   "outputs": [],
   "source": [
    "PROJECT_PATH = get_project_dir()\n",
    "PATH_TO_MAIN = os.path.join(PROJECT_PATH, 'data/preprocessed')\n",
    "PATH_TO_TITLE = os.path.join(PROJECT_PATH, 'data/marked')\n",
    "PATH_TO_VOCAB = os.path.join(PROJECT_PATH, 'data/vocabulary')\n",
    "PATH_TO_GROUPS = os.path.join(PROJECT_PATH, 'data')"
   ],
   "metadata": {
    "collapsed": false
   }
  },
  {
   "cell_type": "markdown",
   "source": [
    "# Loading"
   ],
   "metadata": {
    "collapsed": false
   }
  },
  {
   "cell_type": "markdown",
   "source": [
    "## main"
   ],
   "metadata": {
    "collapsed": false
   }
  },
  {
   "cell_type": "code",
   "execution_count": 26,
   "outputs": [
    {
     "output_type": "display_data",
     "data": {
      "text/plain": [
       "CHUNKS:   0%|          | 0/20 [00:00<?, ?it/s]"
      ],
      "application/vnd.jupyter.widget-view+json": {
       "version_major": 2,
       "version_minor": 0,
       "model_id": "f9e980408f414237b330e9499f5e559b"
      }
     },
     "metadata": {}
    }
   ],
   "source": [
    "main = load_csv(path=PATH_TO_MAIN,\n",
    "                filename='main.csv',\n",
    "                columns=['type','date_parsed','source','title_id'],\n",
    "                chunksize=1000000,\n",
    "                n_rows=19291934,\n",
    "                ignore_index=False,\n",
    "                prefix='')"
   ],
   "metadata": {
    "collapsed": false
   }
  },
  {
   "cell_type": "code",
   "execution_count": 27,
   "outputs": [
    {
     "output_type": "stream",
     "name": "stderr",
     "text": [
      "100%|██████████| 19291933/19291933 [00:12<00:00, 1596416.85it/s]\n"
     ]
    }
   ],
   "source": [
    "main['year'] = list(tqdm(map(lambda x: int(x[:4]), main['date_parsed']), total=len(main)))"
   ],
   "metadata": {
    "collapsed": false
   }
  },
  {
   "cell_type": "code",
   "execution_count": null,
   "outputs": [],
   "source": [
    "main['date_parsed'] = list(tqdm(map(lambda x: datetime.datetime.strptime('/'.join(x.split('/')[:2]), '%Y/%m'),\n",
    "                                    main['date_parsed']), total=len(main)))"
   ],
   "metadata": {
    "collapsed": false
   }
  },
  {
   "cell_type": "markdown",
   "source": [
    "## title"
   ],
   "metadata": {
    "collapsed": false
   }
  },
  {
   "cell_type": "code",
   "execution_count": 28,
   "outputs": [
    {
     "output_type": "display_data",
     "data": {
      "text/plain": [
       "CHUNKS:   0%|          | 0/5 [00:00<?, ?it/s]"
      ],
      "application/vnd.jupyter.widget-view+json": {
       "version_major": 2,
       "version_minor": 0,
       "model_id": "b50d599021d742c59dbce85a9f272787"
      }
     },
     "metadata": {}
    }
   ],
   "source": [
    "title = load_csv(path=PATH_TO_TITLE,\n",
    "                filename='p_title_marked.csv',\n",
    "                columns=['id','label'],\n",
    "                chunksize=1000000,\n",
    "                n_rows=4388764,\n",
    "                ignore_index=False,\n",
    "                prefix='')"
   ],
   "metadata": {
    "collapsed": false
   }
  },
  {
   "cell_type": "code",
   "execution_count": 30,
   "outputs": [
    {
     "output_type": "stream",
     "name": "stderr",
     "text": [
      "100%|██████████| 4388764/4388764 [01:10<00:00, 62553.42it/s]\n"
     ]
    }
   ],
   "source": [
    "title = title.set_index('id')\n",
    "tqdm.pandas()\n",
    "title['lemmatized'] = title['lemmatized'].progress_apply(lambda x: ast.literal_eval(x))"
   ],
   "metadata": {
    "collapsed": false
   }
  },
  {
   "cell_type": "markdown",
   "source": [
    "## vocabulary"
   ],
   "metadata": {
    "collapsed": false
   }
  },
  {
   "cell_type": "code",
   "execution_count": 31,
   "outputs": [
    {
     "output_type": "stream",
     "name": "stderr",
     "text": [
      "counting rows...: 187884it [00:00, 370802.58it/s]\n"
     ]
    },
    {
     "output_type": "display_data",
     "data": {
      "text/plain": [
       "CHUNKS:   0%|          | 0/188 [00:00<?, ?it/s]"
      ],
      "application/vnd.jupyter.widget-view+json": {
       "version_major": 2,
       "version_minor": 0,
       "model_id": "7fdbd5912922453f89f9e9a61ce537f4"
      }
     },
     "metadata": {}
    }
   ],
   "source": [
    "vocab = load_csv(path=PATH_TO_VOCAB,\n",
    "                filename='lemma_voc_title.csv',\n",
    "                columns=['lemma','id'],\n",
    "                chunksize=1000,\n",
    "                n_rows=None,\n",
    "                ignore_index=False,\n",
    "                prefix='')"
   ],
   "metadata": {
    "collapsed": false
   }
  },
  {
   "cell_type": "code",
   "execution_count": 32,
   "outputs": [],
   "source": [
    "vocab = dict(zip(vocab['id'], vocab['lemma']))"
   ],
   "metadata": {
    "collapsed": false
   }
  },
  {
   "cell_type": "markdown",
   "source": [
    "## sources"
   ],
   "metadata": {
    "collapsed": false
   }
  },
  {
   "cell_type": "code",
   "execution_count": 34,
   "outputs": [
    {
     "output_type": "stream",
     "name": "stderr",
     "text": [
      "100%|██████████| 19291933/19291933 [00:17<00:00, 1118115.14it/s]\n"
     ]
    }
   ],
   "source": [
    "sources = read_txt(path=PATH_TO_GROUPS, filename='sources.txt')\n",
    "sources = sorted(sources)\n",
    "is_not_pro_rus = [0, 0, 1, 0, 0, 0, 0, 0, 0, 1, 1, 1, 0, 0 ,0 ,0 ,0 ,0 ,1, 0, 1, 1, 0, 0, 0, 0]\n",
    "sources = dict(zip(sources, is_not_pro_rus))\n",
    "tqdm.pandas()\n",
    "main['is_pro_opp'] = main['source'].progress_apply(lambda x: sources[x] if type(x)==str else None)"
   ],
   "metadata": {
    "collapsed": false
   }
  },
  {
   "cell_type": "markdown",
   "source": [
    "## types"
   ],
   "metadata": {
    "collapsed": false
   }
  },
  {
   "cell_type": "code",
   "execution_count": 56,
   "outputs": [],
   "source": [
    "types = pd.read_excel(os.path.join(PATH_TO_GROUPS, 'types.xlsx'))\n",
    "types = types.set_index('type').sort_index()"
   ],
   "metadata": {
    "collapsed": false
   }
  },
  {
   "cell_type": "markdown",
   "source": [
    "# Grouping"
   ],
   "metadata": {
    "collapsed": false
   }
  },
  {
   "cell_type": "code",
   "execution_count": null,
   "outputs": [],
   "source": [
    "grouped_by_type = SentimentsRate().find(main_data=main,\n",
    "                                        text_data=title,\n",
    "                                        col_to_group='type',\n",
    "                                        text_col='title_id',\n",
    "                                        labels_col='label',\n",
    "                                        mapping_df=types,\n",
    "                                        max_groups=19,\n",
    "                                        scaling=None)"
   ],
   "metadata": {
    "collapsed": false
   }
  },
  {
   "cell_type": "code",
   "execution_count": null,
   "outputs": [],
   "source": [
    "grouped_by_source = SentimentsRate().find(main_data=main,\n",
    "                                          text_data=title,\n",
    "                                          col_to_group='source',\n",
    "                                          text_col='title_id',\n",
    "                                          labels_col='label',\n",
    "                                          mapping_df=None,\n",
    "                                          max_groups=None,\n",
    "                                          scaling=None)"
   ],
   "metadata": {
    "collapsed": false
   }
  },
  {
   "cell_type": "code",
   "execution_count": null,
   "outputs": [],
   "source": [
    "grouped_by_year = SentimentsRate().find(main_data=main,\n",
    "                                        text_data=title,\n",
    "                                        col_to_group='year',\n",
    "                                        text_col='title_id',\n",
    "                                        labels_col='label',\n",
    "                                        mapping_df=None,\n",
    "                                        max_groups=None,\n",
    "                                        scaling=None)"
   ],
   "metadata": {
    "collapsed": false
   }
  },
  {
   "cell_type": "code",
   "execution_count": null,
   "outputs": [],
   "source": [
    "grouped_by_sourceGroup = SentimentsRate().find(main_data=main,\n",
    "                                               text_data=title,\n",
    "                                               col_to_group='is_pro_opp',\n",
    "                                               text_col='title_id',\n",
    "                                               labels_col='label',\n",
    "                                               mapping_df=None,\n",
    "                                               max_groups=None,\n",
    "                                               scaling=None) \\\n",
    "                                         .rename(columns={'is_pro_opp': 'group'})\n",
    "grouped_by_sourceGroup['group'] = grouped_by_sourceGroup['group'].replace({0: 'pro-russian',\n",
    "                                                                           1: 'pro-opposite'})"
   ],
   "metadata": {
    "collapsed": false
   }
  },
  {
   "cell_type": "code",
   "execution_count": null,
   "outputs": [],
   "source": [
    "grouped_by_year_and_source = SentimentsRateMulti().find(main_data=main,\n",
    "                                                        text_data=title,\n",
    "                                                        cols_to_group=['source','year'],\n",
    "                                                        text_col='title_id',\n",
    "                                                        labels_col='label',\n",
    "                                                        scaling=None)"
   ],
   "metadata": {
    "collapsed": false
   }
  },
  {
   "cell_type": "code",
   "execution_count": null,
   "outputs": [],
   "source": [
    "grouped = SentimentsRateMulti().find(main_data=main,\n",
    "                                     text_data=title,\n",
    "                                     cols_to_group=['source','date_parsed'],\n",
    "                                     text_col='title_id',\n",
    "                                     labels_col='label',\n",
    "                                     scaling=None)"
   ],
   "metadata": {
    "collapsed": false
   }
  },
  {
   "cell_type": "markdown",
   "source": [
    "# Figures"
   ],
   "metadata": {
    "collapsed": false
   }
  },
  {
   "cell_type": "code",
   "execution_count": null,
   "outputs": [],
   "source": [
    "custom_line_plots(ids_start=[0, 9, 18],\n",
    "                 ids_stop=[9, 18, 26],\n",
    "                 groups=list(sources.keys()),\n",
    "                 data=grouped[grouped['date_parsed'] >= datetime.datetime.strptime('2014', '%Y')],\n",
    "                 x='date_parsed',\n",
    "                 y='neg_rate',\n",
    "                 hue='source',\n",
    "                 fs=18, lw=5,\n",
    "                 x_label='date parsed',\n",
    "                 y_label='Negativity Rate',\n",
    "                 k=1,\n",
    "                 aspect_ratio=0.3,\n",
    "                 weight=0.9,\n",
    "                 reverse=True)"
   ],
   "metadata": {
    "collapsed": false
   }
  },
  {
   "cell_type": "code",
   "execution_count": null,
   "outputs": [],
   "source": [
    "custom_bar_plot(data=grouped_by_type, x='type', y='rate', hue='label', fs=18, aspect_ratio=0.4, x_rotation=45)"
   ],
   "metadata": {
    "collapsed": false
   }
  },
  {
   "cell_type": "code",
   "execution_count": null,
   "outputs": [],
   "source": [
    "custom_bar_plot(data=grouped_by_year, x='year', y='rate', hue='label', fs=18, aspect_ratio=0.4, x_vals=[k for k in range(2014, 2024)])"
   ],
   "metadata": {
    "collapsed": false
   }
  },
  {
   "cell_type": "code",
   "execution_count": null,
   "outputs": [],
   "source": [
    "custom_bar_plot(data=grouped_by_source, x='source', y='rate', hue='label', fs=18, aspect_ratio=0.4, x_rotation=60)"
   ],
   "metadata": {
    "collapsed": false
   }
  },
  {
   "cell_type": "code",
   "execution_count": null,
   "outputs": [],
   "source": [
    "custom_bar_plot(data=grouped_by_sourceGroup, x='group', y='rate', hue='label', fs=18, aspect_ratio=0.4, x_rotation=0, show_values=True)"
   ],
   "metadata": {
    "collapsed": false
   }
  }
 ],
 "metadata": {
  "kernelspec": {
   "display_name": "Python 3",
   "language": "python",
   "name": "python3"
  },
  "language_info": {
   "codemirror_mode": {
    "name": "ipython",
    "version": 2
   },
   "file_extension": ".py",
   "mimetype": "text/x-python",
   "name": "python",
   "nbconvert_exporter": "python",
   "pygments_lexer": "ipython2",
   "version": "2.7.6"
  }
 },
 "nbformat": 4,
 "nbformat_minor": 0
}
